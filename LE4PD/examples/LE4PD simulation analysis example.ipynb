{
 "cells": [
  {
   "cell_type": "markdown",
   "metadata": {},
   "source": [
    "# Example LE4PD Analysis for a Simulation Trajectory"
   ]
  },
  {
   "cell_type": "code",
   "execution_count": 4,
   "metadata": {},
   "outputs": [],
   "source": [
    "#Import the required libraries\n",
    "\n",
    "from LE4PD.molecule import protein\n",
    "import LE4PD.util"
   ]
  },
  {
   "cell_type": "code",
   "execution_count": 6,
   "metadata": {},
   "outputs": [
    {
     "name": "stdout",
     "output_type": "stream",
     "text": [
      "1ns/1UBQ 76 5001 1231\n",
      "0.3863774933077176 0.1493185859030537\n",
      "1ns/1UBQ 76 5001 1231\n",
      "fratio:  0.2104487082924623\n",
      "Temperature (K):  300\n",
      "Internal viscosity factor:  2.71828\n",
      "Viscosity (Pa s):  0.001\n",
      "fd20 0.0\n",
      "1ns/1UBQ 76 5001\n",
      "1ns/1UBQ 76 5001\n"
     ]
    },
    {
     "name": "stderr",
     "output_type": "stream",
     "text": [
      "/Users/chemstudent/Desktop/LE4PD/LE4PD/codes/LE4PD.py:404: RuntimeWarning: divide by zero encountered in log\n",
      "  fes = -kT*np.log(his)\n"
     ]
    },
    {
     "name": "stdout",
     "output_type": "stream",
     "text": [
      "CPU times: user 16.4 s, sys: 448 ms, total: 16.9 s\n",
      "Wall time: 19.2 s\n"
     ]
    }
   ],
   "source": [
    "%%time\n",
    "\n",
    "#Load trajectory and topology file\n",
    "traj_file = \"data/1UBQ.g96\"\n",
    "top_file = \"data/1UBQ_first.pdb\"\n",
    "\n",
    "#Initialize LE4PD object -- be sure to use the correct temperature!\n",
    "mol = protein(method = 'simulation', T = 300)\n",
    "\n",
    "#Load the LE4PD object with some useful data (number of residues in the protein,\n",
    "#number of frames in the trajectory, etc.)\n",
    "mol.load(traj_file, top_file)\n",
    "\n",
    "#Generate an unformatted trajectory storied as a .npy file for ease of loading data\n",
    "mol.prepare_traj()\n",
    "\n",
    "#Calculate the U matrix\n",
    "mol.calc_umatrix(mol.protname, mol.nres, mol.nframes, mol.natoms)\n",
    "\n",
    "#Calculate the friction coefficients; viscosity of solvent is in units of Pa s .\n",
    "mol.fric_calc(mol.protname, mol.nres, mol.nframes, mol.natoms, intv = 2.71828, viscosity = 1e-3, fd20 = 0.0)\n",
    "\n",
    "#Calculate the H, M, a, L, and the eigendecomposition of the LU matrix\n",
    "mol.lui_calc()\n",
    "\n",
    "#Calculate free-energy surfaces and barrier heights for the specified number of modes \n",
    "mol.mode_mad(nmodes = 10)\n",
    "\n",
    "#Convenience function to get the timescales of each mode\n",
    "mol.tau_convert()\n",
    "\n",
    "#Calculate the local mode lengthscale for each mode\n",
    "mol.LML()\n",
    "\n",
    "#Calculate the M1(t) time correlation function for each bond in the protein\n",
    "LE4PD.util.m1.m1int(mol.protname, mol.nres, mol.sigma, mol.temp, mol.barriers, mol.lambda_eig, mol.mu_eig, mol.Q, mol.QINV)\n",
    "LE4PD.util.m1.m1rot(mol.protname, mol.nres, mol.sigma, mol.temp, mol.barriers, mol.lambda_eig, mol.mu_eig, mol.Q, mol.QINV)"
   ]
  },
  {
   "cell_type": "code",
   "execution_count": 7,
   "metadata": {},
   "outputs": [],
   "source": [
    "LE4PD.util.model.save(mol, filename = \"mol.p\")"
   ]
  },
  {
   "cell_type": "code",
   "execution_count": 8,
   "metadata": {},
   "outputs": [],
   "source": [
    "mol2 = LE4PD.util.model.load(filename = \"mol.p\")"
   ]
  },
  {
   "cell_type": "code",
   "execution_count": null,
   "metadata": {},
   "outputs": [],
   "source": [
    "%%time\n",
    "\n",
    "traj_file = \"../10ns/1UBQ.g96\"\n",
    "top_file = \"1ns/1UBQ_first.pdb\"\n",
    "mol = protein(method = 'simulation', T = 300)\n",
    "\n",
    "mol.load(traj_file, top_file)\n",
    "mol.prepare_traj()\n",
    "mol.calc_umatrix(mol.protname, mol.nres, mol.nframes, mol.natoms)\n",
    "mol.fric_calc(mol.protname, mol.nres, mol.nframes, mol.natoms, intv = 2.71828, viscosity = 1e-3, fd20 = 0.0)\n",
    "mol.lui_calc()\n",
    "mol.mode_mad(nmodes = 10)\n",
    "mol.tau_convert()\n",
    "mol.LML()"
   ]
  },
  {
   "cell_type": "code",
   "execution_count": null,
   "metadata": {},
   "outputs": [],
   "source": [
    "md.load('1ns/1UBQ.g96')"
   ]
  },
  {
   "cell_type": "code",
   "execution_count": null,
   "metadata": {},
   "outputs": [],
   "source": [
    "string = \"1UBQ.g96\""
   ]
  },
  {
   "cell_type": "code",
   "execution_count": null,
   "metadata": {},
   "outputs": [],
   "source": [
    "os.getcwd()"
   ]
  },
  {
   "cell_type": "code",
   "execution_count": null,
   "metadata": {},
   "outputs": [],
   "source": [
    "os.name"
   ]
  },
  {
   "cell_type": "code",
   "execution_count": null,
   "metadata": {},
   "outputs": [],
   "source": [
    "import platform"
   ]
  },
  {
   "cell_type": "code",
   "execution_count": null,
   "metadata": {},
   "outputs": [],
   "source": [
    "platform.system()"
   ]
  },
  {
   "cell_type": "code",
   "execution_count": null,
   "metadata": {},
   "outputs": [],
   "source": [
    "np.load('unformatted_traj.npy').shape"
   ]
  },
  {
   "cell_type": "code",
   "execution_count": null,
   "metadata": {},
   "outputs": [],
   "source": [
    "N = mol.nres\n",
    "NFRS = mol.nframes\n",
    "\n",
    "ftraj = np.zeros((3*N, NFRS))\n",
    "for numba, k in enumerate(range(0, N*NFRS, N)):\n",
    "    ftraj[::3, numba] = traj[k:k+N, 0]\n",
    "    ftraj[1::3, numba] = traj[k:k+N, 1]\n",
    "    ftraj[2::3, numba] = traj[k:k+N, 2]"
   ]
  },
  {
   "cell_type": "code",
   "execution_count": null,
   "metadata": {},
   "outputs": [],
   "source": [
    "os.environ"
   ]
  },
  {
   "cell_type": "code",
   "execution_count": null,
   "metadata": {},
   "outputs": [],
   "source": [
    "import pickle"
   ]
  },
  {
   "cell_type": "code",
   "execution_count": null,
   "metadata": {},
   "outputs": [],
   "source": [
    "pickle.dump(mol, open(\"mol.p\", \"wb\"))"
   ]
  },
  {
   "cell_type": "code",
   "execution_count": null,
   "metadata": {},
   "outputs": [],
   "source": [
    "mol2 = pickle.load(open(\"mol.p\", \"rb\"))"
   ]
  },
  {
   "cell_type": "code",
   "execution_count": null,
   "metadata": {},
   "outputs": [],
   "source": [
    "mol2.avblsq"
   ]
  },
  {
   "cell_type": "code",
   "execution_count": null,
   "metadata": {},
   "outputs": [],
   "source": []
  }
 ],
 "metadata": {
  "kernelspec": {
   "display_name": "Python 3",
   "language": "python",
   "name": "python3"
  },
  "language_info": {
   "codemirror_mode": {
    "name": "ipython",
    "version": 3
   },
   "file_extension": ".py",
   "mimetype": "text/x-python",
   "name": "python",
   "nbconvert_exporter": "python",
   "pygments_lexer": "ipython3",
   "version": "3.7.6"
  }
 },
 "nbformat": 4,
 "nbformat_minor": 4
}
