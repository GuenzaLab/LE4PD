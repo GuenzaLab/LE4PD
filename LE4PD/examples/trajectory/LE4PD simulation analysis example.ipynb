{
 "cells": [
  {
   "cell_type": "markdown",
   "metadata": {},
   "source": [
    "# Example LE4PD Analysis for a Simulation Trajectory"
   ]
  },
  {
   "cell_type": "code",
   "execution_count": 1,
   "metadata": {},
   "outputs": [],
   "source": [
    "#Import the required libraries\n",
    "\n",
    "from LE4PD.molecule import protein\n",
    "import LE4PD.util"
   ]
  },
  {
   "cell_type": "code",
   "execution_count": null,
   "metadata": {},
   "outputs": [],
   "source": [
    "#Analyze a single protein\n",
    "\n",
    "#Time it\n",
    "%%time\n",
    "\n",
    "#Load trajectory and topology file\n",
    "traj_file = \"data/1UBQ.g96\"\n",
    "top_file = \"data/1UBQ_first.pdb\"\n",
    "\n",
    "#Initialize LE4PD object -- be sure to use the correct temperature!\n",
    "mol = protein(method = 'simulation', T = 300)\n",
    "\n",
    "#Load the LE4PD object with some useful data (number of residues in the protein,\n",
    "#number of frames in the trajectory, etc.)\n",
    "mol.load(traj_file, top_file)\n",
    "\n",
    "#Generate an unformatted trajectory storied as a .npy file for ease of loading data\n",
    "mol.prepare_traj()\n",
    "\n",
    "#Calculate the U matrix\n",
    "mol.calc_umatrix()\n",
    "\n",
    "#Calculate the friction coefficients; viscosity of solvent is in units of Pa s .\n",
    "mol.fric_calc(intv = 2.71828, viscosity = 1e-3, fd20 = 0.0, path_to_resarea = 'data/1UBQ/')\n",
    "\n",
    "#Calculate the H, M, a, L, and the eigendecomposition of the LU matrix\n",
    "mol.lui_calc()\n",
    "\n",
    "#Calculate free-energy surfaces and barrier heights for the specified number of modes \n",
    "mol.mode_mad(nmodes = 10)\n",
    "\n",
    "#Convenience function to get the timescales of each mode\n",
    "mol.tau_convert()\n",
    "\n",
    "#Calculate the local mode lengthscale for each mode\n",
    "mol.LML()\n",
    "\n",
    "#Calculate the M1(t) time correlation function for each bond in the protein\n",
    "LE4PD.util.m1.m1int(mol.protname, mol.nres, mol.sigma, mol.temp, mol.barriers, mol.lambda_eig, mol.mu_eig, mol.Q, mol.QINV)\n",
    "LE4PD.util.m1.m1rot(mol.protname, mol.nres, mol.sigma, mol.temp, mol.barriers, mol.lambda_eig, mol.mu_eig, mol.Q, mol.QINV)"
   ]
  },
  {
   "cell_type": "code",
   "execution_count": null,
   "metadata": {},
   "outputs": [],
   "source": [
    "#Save the model using pickle\n",
    "LE4PD.util.model.save(mol, filename = \"mol.p\")"
   ]
  },
  {
   "cell_type": "code",
   "execution_count": null,
   "metadata": {},
   "outputs": [],
   "source": [
    "#Load the object (with full functionality) again using pickle\n",
    "mol2 = LE4PD.util.model.load(filename = \"mol.p\")"
   ]
  },
  {
   "cell_type": "code",
   "execution_count": null,
   "metadata": {},
   "outputs": [],
   "source": [
    "#Analyze a protein complex\n",
    "\n",
    "#Time it\n",
    "#%%time\n",
    "\n",
    "#Load trajectory and topology file\n",
    "traj_file = \"data/1ebw.g96\"\n",
    "top_file = \"data/1ebw_first.pdb\"\n",
    "\n",
    "#Initialize LE4PD object -- be sure to use the correct temperature!\n",
    "mol = protein(method = 'simulation', comp = True, T = 300)\n",
    "\n",
    "#Load the LE4PD object with some useful data (number of residues in the protein,\n",
    "#number of frames in the trajectory, etc.)\n",
    "mol.load(traj_file, top_file)\n",
    "\n",
    "#Generate an unformatted trajectory storied as a .npy file for ease of loading data\n",
    "mol.prepare_traj()\n",
    "\n",
    "#Calculate the U matrix\n",
    "mol.calc_umatrix()\n",
    "\n",
    "#Calculate the friction coefficients; viscosity of solvent is in units of Pa s .\n",
    "mol.fric_calc(intv = 2.71828, viscosity = 1e-3, fd20 = 0.0, path_to_resarea = 'data/1ebw/')\n",
    "\n",
    "#Calculate the H, M, a, L, and the eigendecomposition of the LU matrix\n",
    "mol.lui_calc()\n",
    "\n",
    "#Calculate free-energy surfaces and barrier heights for the specified number of modes \n",
    "mol.mode_mad(nmodes = 10)\n",
    "\n",
    "#Convenience function to get the timescales of each mode\n",
    "mol.tau_convert()\n",
    "\n",
    "#Calculate the local mode lengthscale for each mode\n",
    "mol.LML()\n",
    "\n",
    "#Calculate the M1(t) time correlation function for each bond in the protein\n",
    "LE4PD.util.m1.m1int(mol.protname, mol.nres, mol.sigma, mol.temp, mol.barriers, mol.lambda_eig, mol.mu_eig, mol.Q, mol.QINV, comp = True, nmol = mol.nmol)\n",
    "LE4PD.util.m1.m1rot(mol.protname, mol.nres, mol.sigma, mol.temp, mol.barriers, mol.lambda_eig, mol.mu_eig, mol.Q, mol.QINV, comp = True, nmol = mol.nmol)"
   ]
  },
  {
   "cell_type": "code",
   "execution_count": null,
   "metadata": {},
   "outputs": [],
   "source": [
    "#The model generated from the analysis of the protein complex can be saved\n",
    "#using pickle in the same way the single protein analysis was asaved\n",
    "\n",
    "LE4PD.util.model.save(mol, filename = \"mol.p\")"
   ]
  },
  {
   "cell_type": "code",
   "execution_count": 2,
   "metadata": {},
   "outputs": [],
   "source": [
    "#...and the saved model can be loaded in the same way as well:\n",
    "\n",
    "mol = LE4PD.util.model.load(filename = \"mol.p\")"
   ]
  },
  {
   "cell_type": "code",
   "execution_count": null,
   "metadata": {},
   "outputs": [],
   "source": []
  }
 ],
 "metadata": {
  "kernelspec": {
   "display_name": "Python 3",
   "language": "python",
   "name": "python3"
  },
  "language_info": {
   "codemirror_mode": {
    "name": "ipython",
    "version": 3
   },
   "file_extension": ".py",
   "mimetype": "text/x-python",
   "name": "python",
   "nbconvert_exporter": "python",
   "pygments_lexer": "ipython3",
   "version": "3.7.6"
  }
 },
 "nbformat": 4,
 "nbformat_minor": 4
}
